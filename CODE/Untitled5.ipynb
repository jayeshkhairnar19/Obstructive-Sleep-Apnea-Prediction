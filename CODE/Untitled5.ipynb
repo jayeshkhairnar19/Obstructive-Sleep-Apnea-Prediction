{
 "cells": [
  {
   "cell_type": "code",
   "execution_count": 2,
   "id": "23016cb8",
   "metadata": {},
   "outputs": [],
   "source": [
    "import pandas as pd   \n",
    "import numpy as np    \n",
    "import matplotlib.pyplot as plt \n",
    "%matplotlib inline\n",
    "%config InlineBackend.figure_formats = ['retina']\n",
    "import seaborn as sns\n",
    "import time\n",
    "import warnings\n",
    "warnings.filterwarnings(\"ignore\")\n",
    "from sklearn.model_selection import KFold, cross_val_score, GridSearchCV, StratifiedKFold\n",
    "from sklearn.linear_model import LogisticRegression\n",
    "from sklearn.neighbors import KNeighborsClassifier\n",
    "from sklearn.naive_bayes import GaussianNB, BernoulliNB, MultinomialNB\n",
    "from sklearn.tree import DecisionTreeClassifier\n",
    "from sklearn.ensemble import RandomForestClassifier\n",
    "from sklearn.svm import LinearSVC, SVC\n",
    "from sklearn import metrics\n",
    "from sklearn.metrics import confusion_matrix, classification_report\n",
    "from sklearn.metrics import accuracy_score, precision_score, recall_score, f1_score, log_loss\n",
    "from sklearn.metrics import auc, roc_curve, roc_auc_score, precision_recall_curve\n",
    "from sklearn.metrics import fbeta_score, cohen_kappa_score\n",
    "SEED = 42"
   ]
  },
  {
   "cell_type": "code",
   "execution_count": 7,
   "id": "96356f15",
   "metadata": {},
   "outputs": [
    {
     "data": {
      "text/html": [
       "<div>\n",
       "<style scoped>\n",
       "    .dataframe tbody tr th:only-of-type {\n",
       "        vertical-align: middle;\n",
       "    }\n",
       "\n",
       "    .dataframe tbody tr th {\n",
       "        vertical-align: top;\n",
       "    }\n",
       "\n",
       "    .dataframe thead th {\n",
       "        text-align: right;\n",
       "    }\n",
       "</style>\n",
       "<table border=\"1\" class=\"dataframe\">\n",
       "  <thead>\n",
       "    <tr style=\"text-align: right;\">\n",
       "      <th></th>\n",
       "      <th>BQ</th>\n",
       "      <th>ESS</th>\n",
       "      <th>BMI</th>\n",
       "      <th>Weight</th>\n",
       "      <th>Height</th>\n",
       "      <th>Head</th>\n",
       "      <th>Neck</th>\n",
       "      <th>Waist</th>\n",
       "      <th>Buttock</th>\n",
       "      <th>Age</th>\n",
       "      <th>M</th>\n",
       "      <th>status</th>\n",
       "    </tr>\n",
       "  </thead>\n",
       "  <tbody>\n",
       "    <tr>\n",
       "      <th>0</th>\n",
       "      <td>0</td>\n",
       "      <td>14</td>\n",
       "      <td>29.06593</td>\n",
       "      <td>88</td>\n",
       "      <td>174</td>\n",
       "      <td>57.5</td>\n",
       "      <td>39</td>\n",
       "      <td>96</td>\n",
       "      <td>106</td>\n",
       "      <td>20</td>\n",
       "      <td>1</td>\n",
       "      <td>0</td>\n",
       "    </tr>\n",
       "    <tr>\n",
       "      <th>1</th>\n",
       "      <td>0</td>\n",
       "      <td>8</td>\n",
       "      <td>26.98962</td>\n",
       "      <td>78</td>\n",
       "      <td>170</td>\n",
       "      <td>57.0</td>\n",
       "      <td>36</td>\n",
       "      <td>90</td>\n",
       "      <td>100</td>\n",
       "      <td>20</td>\n",
       "      <td>1</td>\n",
       "      <td>0</td>\n",
       "    </tr>\n",
       "    <tr>\n",
       "      <th>2</th>\n",
       "      <td>0</td>\n",
       "      <td>16</td>\n",
       "      <td>23.93948</td>\n",
       "      <td>75</td>\n",
       "      <td>177</td>\n",
       "      <td>59.0</td>\n",
       "      <td>39</td>\n",
       "      <td>88</td>\n",
       "      <td>104</td>\n",
       "      <td>20</td>\n",
       "      <td>1</td>\n",
       "      <td>0</td>\n",
       "    </tr>\n",
       "    <tr>\n",
       "      <th>3</th>\n",
       "      <td>0</td>\n",
       "      <td>15</td>\n",
       "      <td>22.12974</td>\n",
       "      <td>67</td>\n",
       "      <td>174</td>\n",
       "      <td>57.0</td>\n",
       "      <td>35</td>\n",
       "      <td>74</td>\n",
       "      <td>94</td>\n",
       "      <td>20</td>\n",
       "      <td>1</td>\n",
       "      <td>0</td>\n",
       "    </tr>\n",
       "    <tr>\n",
       "      <th>4</th>\n",
       "      <td>0</td>\n",
       "      <td>15</td>\n",
       "      <td>22.12974</td>\n",
       "      <td>67</td>\n",
       "      <td>174</td>\n",
       "      <td>57.0</td>\n",
       "      <td>35</td>\n",
       "      <td>74</td>\n",
       "      <td>94</td>\n",
       "      <td>20</td>\n",
       "      <td>1</td>\n",
       "      <td>0</td>\n",
       "    </tr>\n",
       "    <tr>\n",
       "      <th>...</th>\n",
       "      <td>...</td>\n",
       "      <td>...</td>\n",
       "      <td>...</td>\n",
       "      <td>...</td>\n",
       "      <td>...</td>\n",
       "      <td>...</td>\n",
       "      <td>...</td>\n",
       "      <td>...</td>\n",
       "      <td>...</td>\n",
       "      <td>...</td>\n",
       "      <td>...</td>\n",
       "      <td>...</td>\n",
       "    </tr>\n",
       "    <tr>\n",
       "      <th>11531</th>\n",
       "      <td>0</td>\n",
       "      <td>16</td>\n",
       "      <td>29.48650</td>\n",
       "      <td>99</td>\n",
       "      <td>183</td>\n",
       "      <td>57.1</td>\n",
       "      <td>42</td>\n",
       "      <td>111</td>\n",
       "      <td>109</td>\n",
       "      <td>56</td>\n",
       "      <td>1</td>\n",
       "      <td>3</td>\n",
       "    </tr>\n",
       "    <tr>\n",
       "      <th>11532</th>\n",
       "      <td>0</td>\n",
       "      <td>11</td>\n",
       "      <td>25.07382</td>\n",
       "      <td>66</td>\n",
       "      <td>162</td>\n",
       "      <td>55.1</td>\n",
       "      <td>36</td>\n",
       "      <td>91</td>\n",
       "      <td>96</td>\n",
       "      <td>61</td>\n",
       "      <td>1</td>\n",
       "      <td>3</td>\n",
       "    </tr>\n",
       "    <tr>\n",
       "      <th>11533</th>\n",
       "      <td>0</td>\n",
       "      <td>6</td>\n",
       "      <td>28.66613</td>\n",
       "      <td>96</td>\n",
       "      <td>183</td>\n",
       "      <td>58.0</td>\n",
       "      <td>39</td>\n",
       "      <td>99</td>\n",
       "      <td>108</td>\n",
       "      <td>36</td>\n",
       "      <td>1</td>\n",
       "      <td>3</td>\n",
       "    </tr>\n",
       "    <tr>\n",
       "      <th>11534</th>\n",
       "      <td>0</td>\n",
       "      <td>15</td>\n",
       "      <td>28.73175</td>\n",
       "      <td>85</td>\n",
       "      <td>172</td>\n",
       "      <td>60.2</td>\n",
       "      <td>40</td>\n",
       "      <td>103</td>\n",
       "      <td>105</td>\n",
       "      <td>63</td>\n",
       "      <td>1</td>\n",
       "      <td>3</td>\n",
       "    </tr>\n",
       "    <tr>\n",
       "      <th>11535</th>\n",
       "      <td>0</td>\n",
       "      <td>1</td>\n",
       "      <td>45.26355</td>\n",
       "      <td>140</td>\n",
       "      <td>176</td>\n",
       "      <td>61.0</td>\n",
       "      <td>46</td>\n",
       "      <td>146</td>\n",
       "      <td>132</td>\n",
       "      <td>43</td>\n",
       "      <td>1</td>\n",
       "      <td>3</td>\n",
       "    </tr>\n",
       "  </tbody>\n",
       "</table>\n",
       "<p>11536 rows × 12 columns</p>\n",
       "</div>"
      ],
      "text/plain": [
       "       BQ  ESS       BMI  Weight  Height  Head  Neck  Waist  Buttock  Age  M  \\\n",
       "0       0   14  29.06593      88     174  57.5    39     96      106   20  1   \n",
       "1       0    8  26.98962      78     170  57.0    36     90      100   20  1   \n",
       "2       0   16  23.93948      75     177  59.0    39     88      104   20  1   \n",
       "3       0   15  22.12974      67     174  57.0    35     74       94   20  1   \n",
       "4       0   15  22.12974      67     174  57.0    35     74       94   20  1   \n",
       "...    ..  ...       ...     ...     ...   ...   ...    ...      ...  ... ..   \n",
       "11531   0   16  29.48650      99     183  57.1    42    111      109   56  1   \n",
       "11532   0   11  25.07382      66     162  55.1    36     91       96   61  1   \n",
       "11533   0    6  28.66613      96     183  58.0    39     99      108   36  1   \n",
       "11534   0   15  28.73175      85     172  60.2    40    103      105   63  1   \n",
       "11535   0    1  45.26355     140     176  61.0    46    146      132   43  1   \n",
       "\n",
       "       status  \n",
       "0           0  \n",
       "1           0  \n",
       "2           0  \n",
       "3           0  \n",
       "4           0  \n",
       "...       ...  \n",
       "11531       3  \n",
       "11532       3  \n",
       "11533       3  \n",
       "11534       3  \n",
       "11535       3  \n",
       "\n",
       "[11536 rows x 12 columns]"
      ]
     },
     "execution_count": 7,
     "metadata": {},
     "output_type": "execute_result"
    }
   ],
   "source": [
    "df=pd.read_excel('D:\\MAJOR PROJECT\\sample.xlsx')  \n",
    "df"
   ]
  },
  {
   "cell_type": "code",
   "execution_count": 8,
   "id": "b67377c4",
   "metadata": {},
   "outputs": [],
   "source": [
    "column = df[\"BQ\"]"
   ]
  },
  {
   "cell_type": "code",
   "execution_count": 9,
   "id": "74e21a9c",
   "metadata": {},
   "outputs": [
    {
     "name": "stdout",
     "output_type": "stream",
     "text": [
      "1\n"
     ]
    }
   ],
   "source": [
    "max_value = column. max()\n",
    "print(max_value)"
   ]
  },
  {
   "cell_type": "code",
   "execution_count": 10,
   "id": "750287b7",
   "metadata": {},
   "outputs": [
    {
     "name": "stdout",
     "output_type": "stream",
     "text": [
      "0\n"
     ]
    }
   ],
   "source": [
    "min_value = column. min()\n",
    "print(min_value)"
   ]
  },
  {
   "cell_type": "code",
   "execution_count": 11,
   "id": "47c6f37b",
   "metadata": {},
   "outputs": [
    {
     "name": "stdout",
     "output_type": "stream",
     "text": [
      "48\n",
      "0\n"
     ]
    }
   ],
   "source": [
    "column = df[\"ESS\"]\n",
    "max_value = column. max()\n",
    "print(max_value)\n",
    "min_value = column. min()\n",
    "print(min_value)"
   ]
  },
  {
   "cell_type": "code",
   "execution_count": 12,
   "id": "e2c43b03",
   "metadata": {},
   "outputs": [
    {
     "name": "stdout",
     "output_type": "stream",
     "text": [
      "59.63731\n",
      "14.7655\n"
     ]
    }
   ],
   "source": [
    "column = df[\"BMI\"]\n",
    "max_value = column. max()\n",
    "print(max_value)\n",
    "min_value = column. min()\n",
    "print(min_value)"
   ]
  },
  {
   "cell_type": "code",
   "execution_count": 13,
   "id": "383cbba5",
   "metadata": {},
   "outputs": [
    {
     "name": "stdout",
     "output_type": "stream",
     "text": [
      "161\n",
      "37\n"
     ]
    }
   ],
   "source": [
    "column = df[\"Weight\"]\n",
    "max_value = column. max()\n",
    "print(max_value)\n",
    "min_value = column. min()\n",
    "print(min_value)"
   ]
  },
  {
   "cell_type": "code",
   "execution_count": 14,
   "id": "f9471736",
   "metadata": {},
   "outputs": [
    {
     "name": "stdout",
     "output_type": "stream",
     "text": [
      "198\n",
      "140\n"
     ]
    }
   ],
   "source": [
    "column = df[\"Height\"]\n",
    "max_value = column. max()\n",
    "print(max_value)\n",
    "min_value = column. min()\n",
    "print(min_value)"
   ]
  },
  {
   "cell_type": "code",
   "execution_count": 15,
   "id": "abf06e0e",
   "metadata": {},
   "outputs": [
    {
     "name": "stdout",
     "output_type": "stream",
     "text": [
      "66.0\n",
      "47.0\n"
     ]
    }
   ],
   "source": [
    "column = df[\"Head\"]\n",
    "max_value = column. max()\n",
    "print(max_value)\n",
    "min_value = column. min()\n",
    "print(min_value)"
   ]
  },
  {
   "cell_type": "code",
   "execution_count": 16,
   "id": "30af6385",
   "metadata": {},
   "outputs": [
    {
     "name": "stdout",
     "output_type": "stream",
     "text": [
      "57\n",
      "26\n"
     ]
    }
   ],
   "source": [
    "column = df[\"Neck\"]\n",
    "max_value = column. max()\n",
    "print(max_value)\n",
    "min_value = column. min()\n",
    "print(min_value)"
   ]
  },
  {
   "cell_type": "code",
   "execution_count": 17,
   "id": "d4e56d4d",
   "metadata": {},
   "outputs": [
    {
     "name": "stdout",
     "output_type": "stream",
     "text": [
      "156\n",
      "56\n"
     ]
    }
   ],
   "source": [
    "column = df[\"Waist\"]\n",
    "max_value = column. max()\n",
    "print(max_value)\n",
    "min_value = column. min()\n",
    "print(min_value)"
   ]
  },
  {
   "cell_type": "code",
   "execution_count": 18,
   "id": "1865b6dd",
   "metadata": {},
   "outputs": [
    {
     "name": "stdout",
     "output_type": "stream",
     "text": [
      "150\n",
      "70\n"
     ]
    }
   ],
   "source": [
    "column = df[\"Buttock\"]\n",
    "max_value = column. max()\n",
    "print(max_value)\n",
    "min_value = column. min()\n",
    "print(min_value)"
   ]
  },
  {
   "cell_type": "code",
   "execution_count": 19,
   "id": "0eaa777d",
   "metadata": {},
   "outputs": [
    {
     "name": "stdout",
     "output_type": "stream",
     "text": [
      "80\n",
      "20\n"
     ]
    }
   ],
   "source": [
    "column = df[\"Age\"]\n",
    "max_value = column. max()\n",
    "print(max_value)\n",
    "min_value = column. min()\n",
    "print(min_value)"
   ]
  },
  {
   "cell_type": "code",
   "execution_count": 20,
   "id": "3eb35384",
   "metadata": {},
   "outputs": [
    {
     "name": "stdout",
     "output_type": "stream",
     "text": [
      "1\n",
      "0\n"
     ]
    }
   ],
   "source": [
    "column = df[\"M\"]\n",
    "max_value = column. max()\n",
    "print(max_value)\n",
    "min_value = column. min()\n",
    "print(min_value)"
   ]
  },
  {
   "cell_type": "code",
   "execution_count": 22,
   "id": "3d7c10bd",
   "metadata": {},
   "outputs": [
    {
     "name": "stdout",
     "output_type": "stream",
     "text": [
      "3\n",
      "0\n"
     ]
    }
   ],
   "source": [
    "column = df[\"status\"]\n",
    "max_value = column. max()\n",
    "print(max_value)\n",
    "min_value = column. min()\n",
    "print(min_value)"
   ]
  },
  {
   "cell_type": "code",
   "execution_count": null,
   "id": "3d303485",
   "metadata": {},
   "outputs": [],
   "source": []
  }
 ],
 "metadata": {
  "kernelspec": {
   "display_name": "Python 3 (ipykernel)",
   "language": "python",
   "name": "python3"
  },
  "language_info": {
   "codemirror_mode": {
    "name": "ipython",
    "version": 3
   },
   "file_extension": ".py",
   "mimetype": "text/x-python",
   "name": "python",
   "nbconvert_exporter": "python",
   "pygments_lexer": "ipython3",
   "version": "3.7.11"
  }
 },
 "nbformat": 4,
 "nbformat_minor": 5
}
