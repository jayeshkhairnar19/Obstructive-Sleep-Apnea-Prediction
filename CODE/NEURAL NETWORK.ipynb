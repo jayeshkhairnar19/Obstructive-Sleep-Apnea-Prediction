{
 "cells": [
  {
   "cell_type": "code",
   "execution_count": 347,
   "id": "54bdc335",
   "metadata": {},
   "outputs": [],
   "source": [
    "import numpy as np\n",
    "import tensorflow as tf\n",
    "from tensorflow import keras\n",
    "import pandas as pd\n",
    "from matplotlib import pyplot as plt\n",
    "%matplotlib inline"
   ]
  },
  {
   "cell_type": "code",
   "execution_count": 409,
   "id": "35327490",
   "metadata": {
    "scrolled": true
   },
   "outputs": [
    {
     "data": {
      "text/html": [
       "<div>\n",
       "<style scoped>\n",
       "    .dataframe tbody tr th:only-of-type {\n",
       "        vertical-align: middle;\n",
       "    }\n",
       "\n",
       "    .dataframe tbody tr th {\n",
       "        vertical-align: top;\n",
       "    }\n",
       "\n",
       "    .dataframe thead th {\n",
       "        text-align: right;\n",
       "    }\n",
       "</style>\n",
       "<table border=\"1\" class=\"dataframe\">\n",
       "  <thead>\n",
       "    <tr style=\"text-align: right;\">\n",
       "      <th></th>\n",
       "      <th>BQ</th>\n",
       "      <th>ESS</th>\n",
       "      <th>BMI</th>\n",
       "      <th>Weight</th>\n",
       "      <th>Height</th>\n",
       "      <th>Head</th>\n",
       "      <th>Neck</th>\n",
       "      <th>Waist</th>\n",
       "      <th>Buttock</th>\n",
       "      <th>Age</th>\n",
       "      <th>M</th>\n",
       "      <th>status</th>\n",
       "    </tr>\n",
       "  </thead>\n",
       "  <tbody>\n",
       "    <tr>\n",
       "      <th>0</th>\n",
       "      <td>0</td>\n",
       "      <td>14</td>\n",
       "      <td>29.065927</td>\n",
       "      <td>88.0</td>\n",
       "      <td>174.0</td>\n",
       "      <td>57.5</td>\n",
       "      <td>39.0</td>\n",
       "      <td>95.5</td>\n",
       "      <td>106.5</td>\n",
       "      <td>20.0</td>\n",
       "      <td>1</td>\n",
       "      <td>0</td>\n",
       "    </tr>\n",
       "    <tr>\n",
       "      <th>1</th>\n",
       "      <td>0</td>\n",
       "      <td>8</td>\n",
       "      <td>26.989619</td>\n",
       "      <td>78.0</td>\n",
       "      <td>170.0</td>\n",
       "      <td>57.0</td>\n",
       "      <td>36.5</td>\n",
       "      <td>90.0</td>\n",
       "      <td>100.0</td>\n",
       "      <td>20.0</td>\n",
       "      <td>1</td>\n",
       "      <td>0</td>\n",
       "    </tr>\n",
       "    <tr>\n",
       "      <th>2</th>\n",
       "      <td>0</td>\n",
       "      <td>16</td>\n",
       "      <td>23.939481</td>\n",
       "      <td>75.0</td>\n",
       "      <td>177.0</td>\n",
       "      <td>59.0</td>\n",
       "      <td>39.0</td>\n",
       "      <td>88.0</td>\n",
       "      <td>104.0</td>\n",
       "      <td>20.0</td>\n",
       "      <td>1</td>\n",
       "      <td>0</td>\n",
       "    </tr>\n",
       "    <tr>\n",
       "      <th>3</th>\n",
       "      <td>0</td>\n",
       "      <td>15</td>\n",
       "      <td>22.129740</td>\n",
       "      <td>67.0</td>\n",
       "      <td>174.0</td>\n",
       "      <td>57.0</td>\n",
       "      <td>35.0</td>\n",
       "      <td>74.0</td>\n",
       "      <td>94.0</td>\n",
       "      <td>20.0</td>\n",
       "      <td>1</td>\n",
       "      <td>0</td>\n",
       "    </tr>\n",
       "    <tr>\n",
       "      <th>4</th>\n",
       "      <td>0</td>\n",
       "      <td>15</td>\n",
       "      <td>22.129740</td>\n",
       "      <td>67.0</td>\n",
       "      <td>174.0</td>\n",
       "      <td>57.0</td>\n",
       "      <td>35.0</td>\n",
       "      <td>74.0</td>\n",
       "      <td>94.0</td>\n",
       "      <td>20.0</td>\n",
       "      <td>1</td>\n",
       "      <td>0</td>\n",
       "    </tr>\n",
       "  </tbody>\n",
       "</table>\n",
       "</div>"
      ],
      "text/plain": [
       "   BQ  ESS        BMI  Weight  Height  Head  Neck  Waist  Buttock   Age  M  \\\n",
       "0   0   14  29.065927    88.0   174.0  57.5  39.0   95.5    106.5  20.0  1   \n",
       "1   0    8  26.989619    78.0   170.0  57.0  36.5   90.0    100.0  20.0  1   \n",
       "2   0   16  23.939481    75.0   177.0  59.0  39.0   88.0    104.0  20.0  1   \n",
       "3   0   15  22.129740    67.0   174.0  57.0  35.0   74.0     94.0  20.0  1   \n",
       "4   0   15  22.129740    67.0   174.0  57.0  35.0   74.0     94.0  20.0  1   \n",
       "\n",
       "   status  \n",
       "0       0  \n",
       "1       0  \n",
       "2       0  \n",
       "3       0  \n",
       "4       0  "
      ]
     },
     "execution_count": 409,
     "metadata": {},
     "output_type": "execute_result"
    }
   ],
   "source": [
    "df=pd.read_csv('preprocessed_datset.csv')  \n",
    "df.head()"
   ]
  },
  {
   "cell_type": "code",
   "execution_count": 410,
   "id": "780747af",
   "metadata": {},
   "outputs": [
    {
     "name": "stdout",
     "output_type": "stream",
     "text": [
      "            0         1         2         3         4         5         6   \\\n",
      "0    -0.544805  0.727665  0.471981  0.732869  0.730835  0.493004  0.317320   \n",
      "1    -0.544805 -0.307861  0.076874  0.150404  0.240260  0.252957 -0.284501   \n",
      "2    -0.544805  1.072840 -0.503545 -0.024335  1.098766  1.213143  0.317320   \n",
      "3    -0.544805  0.900252 -0.847926 -0.490308  0.730835  0.252957 -0.645594   \n",
      "4    -0.544805  0.900252 -0.847926 -0.490308  0.730835  0.252957 -0.645594   \n",
      "...        ...       ...       ...       ...       ...       ...       ...   \n",
      "5203  1.835518 -0.653036 -0.490985 -0.723294 -0.740890  0.252957 -1.127051   \n",
      "5204 -0.544805  0.555077  0.642940 -0.723294 -2.825833 -1.667416 -0.453011   \n",
      "5205 -0.544805  0.555077  0.642940 -0.723294 -2.825833 -1.667416 -0.453011   \n",
      "5206 -0.544805 -1.688561 -0.367419 -0.898033 -1.476752 -0.947276 -0.645594   \n",
      "5207  1.835518  1.245427 -1.238405 -1.655238 -1.844684 -0.803249 -1.728872   \n",
      "\n",
      "            7         8         9         10  \n",
      "0     0.322288  0.594334 -1.937116  0.557834  \n",
      "1    -0.083015 -0.086643 -1.937116  0.557834  \n",
      "2    -0.230398  0.332420 -1.937116  0.557834  \n",
      "3    -1.262078 -0.715237 -1.937116  0.557834  \n",
      "4    -1.262078 -0.715237 -1.937116  0.557834  \n",
      "...        ...       ...       ...       ...  \n",
      "5203  0.580209  0.070506  2.414449 -1.792650  \n",
      "5204  0.801283  1.170545  2.414449 -1.792650  \n",
      "5205  0.801283  1.170545  2.414449 -1.792650  \n",
      "5206 -0.562009 -0.191409  2.567135 -1.792650  \n",
      "5207 -1.704227 -1.343831  2.643479 -1.792650  \n",
      "\n",
      "[5208 rows x 11 columns]\n"
     ]
    }
   ],
   "source": [
    "x = df.drop(\"status\", axis = 1)\n",
    "from sklearn.preprocessing import StandardScaler\n",
    "sc = StandardScaler()\n",
    "x = pd.DataFrame(sc.fit_transform(x))\n",
    "y = df[\"status\"]\n",
    "print(x)"
   ]
  },
  {
   "cell_type": "code",
   "execution_count": 411,
   "id": "a645aa46",
   "metadata": {},
   "outputs": [
    {
     "data": {
      "text/plain": [
       "array([[1., 0., 0., 0.],\n",
       "       [1., 0., 0., 0.],\n",
       "       [1., 0., 0., 0.],\n",
       "       ...,\n",
       "       [0., 0., 0., 1.],\n",
       "       [0., 0., 0., 1.],\n",
       "       [1., 0., 0., 0.]], dtype=float32)"
      ]
     },
     "execution_count": 411,
     "metadata": {},
     "output_type": "execute_result"
    }
   ],
   "source": [
    "from keras.utils.np_utils import to_categorical\n",
    "y_cate = to_categorical(y)\n",
    "y_cate"
   ]
  },
  {
   "cell_type": "code",
   "execution_count": 412,
   "id": "456293f2",
   "metadata": {},
   "outputs": [],
   "source": [
    "from sklearn.model_selection import train_test_split\n",
    "x_train, x_test, y_train, y_test = train_test_split(x.values, y_cate, test_size=0.2)"
   ]
  },
  {
   "cell_type": "code",
   "execution_count": 413,
   "id": "41f6d540",
   "metadata": {
    "scrolled": false
   },
   "outputs": [
    {
     "name": "stdout",
     "output_type": "stream",
     "text": [
      "(4166, 11)\n",
      "(4166, 4)\n",
      "(1042, 11)\n",
      "(1042, 4)\n"
     ]
    }
   ],
   "source": [
    "print(x_train.shape)\n",
    "print(y_train.shape)\n",
    "print(X_test.shape)\n",
    "print(y_test.shape)"
   ]
  },
  {
   "cell_type": "code",
   "execution_count": 414,
   "id": "5c573ab7",
   "metadata": {},
   "outputs": [],
   "source": [
    "from tensorflow.keras.optimizers import SGD, Adam"
   ]
  },
  {
   "cell_type": "code",
   "execution_count": 463,
   "id": "a16bbe81",
   "metadata": {
    "scrolled": true
   },
   "outputs": [
    {
     "name": "stdout",
     "output_type": "stream",
     "text": [
      "Model: \"sequential_102\"\n",
      "_________________________________________________________________\n",
      " Layer (type)                Output Shape              Param #   \n",
      "=================================================================\n",
      " dense_243 (Dense)           (None, 60)                720       \n",
      "                                                                 \n",
      " dense_244 (Dense)           (None, 20)                1220      \n",
      "                                                                 \n",
      " dense_245 (Dense)           (None, 15)                315       \n",
      "                                                                 \n",
      " dense_246 (Dense)           (None, 10)                160       \n",
      "                                                                 \n",
      " dense_247 (Dense)           (None, 4)                 44        \n",
      "                                                                 \n",
      "=================================================================\n",
      "Total params: 2,459\n",
      "Trainable params: 2,459\n",
      "Non-trainable params: 0\n",
      "_________________________________________________________________\n"
     ]
    }
   ],
   "source": [
    "model = Sequential()\n",
    "model.add(Dense(60, input_shape = (11,), activation = \"sigmoid\"))\n",
    "model.add(Dense(20, activation = \"relu\"))\n",
    "model.add(Dense(15, activation = \"relu\"))\n",
    "model.add(Dense(10, activation = \"relu\"))\n",
    "model.add(Dense(4, activation = \"softmax\"))\n",
    "model.compile(Adam(lr = 0.01), \"categorical_crossentropy\", metrics = [\"accuracy\"])\n",
    "model.summary()"
   ]
  },
  {
   "cell_type": "code",
   "execution_count": 464,
   "id": "6116980d",
   "metadata": {
    "scrolled": true
   },
   "outputs": [
    {
     "name": "stdout",
     "output_type": "stream",
     "text": [
      "Epoch 1/80\n",
      "131/131 [==============================] - 0s 2ms/step - loss: 0.5872 - accuracy: 0.7240\n",
      "Epoch 2/80\n",
      "131/131 [==============================] - 0s 2ms/step - loss: 0.5023 - accuracy: 0.7640\n",
      "Epoch 3/80\n",
      "131/131 [==============================] - 0s 2ms/step - loss: 0.4906 - accuracy: 0.7729\n",
      "Epoch 4/80\n",
      "131/131 [==============================] - 0s 2ms/step - loss: 0.4899 - accuracy: 0.7686\n",
      "Epoch 5/80\n",
      "131/131 [==============================] - 0s 2ms/step - loss: 0.4821 - accuracy: 0.7780\n",
      "Epoch 6/80\n",
      "131/131 [==============================] - 0s 1ms/step - loss: 0.4766 - accuracy: 0.7722\n",
      "Epoch 7/80\n",
      "131/131 [==============================] - 0s 1ms/step - loss: 0.4743 - accuracy: 0.7796\n",
      "Epoch 8/80\n",
      "131/131 [==============================] - 0s 1ms/step - loss: 0.4736 - accuracy: 0.7801\n",
      "Epoch 9/80\n",
      "131/131 [==============================] - 0s 1ms/step - loss: 0.4789 - accuracy: 0.7715\n",
      "Epoch 10/80\n",
      "131/131 [==============================] - 0s 1ms/step - loss: 0.4752 - accuracy: 0.7772\n",
      "Epoch 11/80\n",
      "131/131 [==============================] - 0s 1ms/step - loss: 0.4706 - accuracy: 0.7796\n",
      "Epoch 12/80\n",
      "131/131 [==============================] - 0s 1ms/step - loss: 0.4707 - accuracy: 0.7772\n",
      "Epoch 13/80\n",
      "131/131 [==============================] - 0s 1ms/step - loss: 0.4649 - accuracy: 0.7849\n",
      "Epoch 14/80\n",
      "131/131 [==============================] - 0s 1ms/step - loss: 0.4674 - accuracy: 0.7813\n",
      "Epoch 15/80\n",
      "131/131 [==============================] - 0s 1ms/step - loss: 0.4650 - accuracy: 0.7835\n",
      "Epoch 16/80\n",
      "131/131 [==============================] - 0s 1ms/step - loss: 0.4609 - accuracy: 0.7789\n",
      "Epoch 17/80\n",
      "131/131 [==============================] - 0s 1ms/step - loss: 0.4656 - accuracy: 0.7840\n",
      "Epoch 18/80\n",
      "131/131 [==============================] - 0s 1ms/step - loss: 0.4609 - accuracy: 0.7813\n",
      "Epoch 19/80\n",
      "131/131 [==============================] - 0s 2ms/step - loss: 0.4606 - accuracy: 0.7835\n",
      "Epoch 20/80\n",
      "131/131 [==============================] - 0s 1ms/step - loss: 0.4584 - accuracy: 0.7904\n",
      "Epoch 21/80\n",
      "131/131 [==============================] - 0s 1ms/step - loss: 0.4543 - accuracy: 0.7876\n",
      "Epoch 22/80\n",
      "131/131 [==============================] - 0s 2ms/step - loss: 0.4551 - accuracy: 0.7902\n",
      "Epoch 23/80\n",
      "131/131 [==============================] - 0s 2ms/step - loss: 0.4524 - accuracy: 0.7876\n",
      "Epoch 24/80\n",
      "131/131 [==============================] - 0s 2ms/step - loss: 0.4501 - accuracy: 0.7868\n",
      "Epoch 25/80\n",
      "131/131 [==============================] - 0s 2ms/step - loss: 0.4510 - accuracy: 0.7847\n",
      "Epoch 26/80\n",
      "131/131 [==============================] - 0s 2ms/step - loss: 0.4536 - accuracy: 0.7892\n",
      "Epoch 27/80\n",
      "131/131 [==============================] - 0s 1ms/step - loss: 0.4534 - accuracy: 0.7880\n",
      "Epoch 28/80\n",
      "131/131 [==============================] - 0s 1ms/step - loss: 0.4488 - accuracy: 0.7909\n",
      "Epoch 29/80\n",
      "131/131 [==============================] - 0s 2ms/step - loss: 0.4496 - accuracy: 0.7880\n",
      "Epoch 30/80\n",
      "131/131 [==============================] - 0s 2ms/step - loss: 0.4474 - accuracy: 0.7890\n",
      "Epoch 31/80\n",
      "131/131 [==============================] - 0s 2ms/step - loss: 0.4443 - accuracy: 0.7902\n",
      "Epoch 32/80\n",
      "131/131 [==============================] - 0s 2ms/step - loss: 0.4438 - accuracy: 0.7936\n",
      "Epoch 33/80\n",
      "131/131 [==============================] - 0s 2ms/step - loss: 0.4424 - accuracy: 0.7926\n",
      "Epoch 34/80\n",
      "131/131 [==============================] - 0s 2ms/step - loss: 0.4398 - accuracy: 0.7912\n",
      "Epoch 35/80\n",
      "131/131 [==============================] - 0s 2ms/step - loss: 0.4399 - accuracy: 0.7933\n",
      "Epoch 36/80\n",
      "131/131 [==============================] - 0s 2ms/step - loss: 0.4380 - accuracy: 0.7938\n",
      "Epoch 37/80\n",
      "131/131 [==============================] - 0s 2ms/step - loss: 0.4414 - accuracy: 0.7907\n",
      "Epoch 38/80\n",
      "131/131 [==============================] - 0s 2ms/step - loss: 0.4329 - accuracy: 0.7952\n",
      "Epoch 39/80\n",
      "131/131 [==============================] - 0s 2ms/step - loss: 0.4356 - accuracy: 0.7945\n",
      "Epoch 40/80\n",
      "131/131 [==============================] - 0s 2ms/step - loss: 0.4347 - accuracy: 0.7948\n",
      "Epoch 41/80\n",
      "131/131 [==============================] - 0s 2ms/step - loss: 0.4379 - accuracy: 0.7948\n",
      "Epoch 42/80\n",
      "131/131 [==============================] - 0s 1ms/step - loss: 0.4350 - accuracy: 0.7952\n",
      "Epoch 43/80\n",
      "131/131 [==============================] - 0s 2ms/step - loss: 0.4326 - accuracy: 0.7976\n",
      "Epoch 44/80\n",
      "131/131 [==============================] - 0s 1ms/step - loss: 0.4288 - accuracy: 0.7991\n",
      "Epoch 45/80\n",
      "131/131 [==============================] - 0s 2ms/step - loss: 0.4281 - accuracy: 0.8012\n",
      "Epoch 46/80\n",
      "131/131 [==============================] - 0s 2ms/step - loss: 0.4252 - accuracy: 0.8029\n",
      "Epoch 47/80\n",
      "131/131 [==============================] - 0s 2ms/step - loss: 0.4260 - accuracy: 0.7967\n",
      "Epoch 48/80\n",
      "131/131 [==============================] - 0s 2ms/step - loss: 0.4197 - accuracy: 0.8036\n",
      "Epoch 49/80\n",
      "131/131 [==============================] - 0s 2ms/step - loss: 0.4174 - accuracy: 0.8000\n",
      "Epoch 50/80\n",
      "131/131 [==============================] - 0s 2ms/step - loss: 0.4168 - accuracy: 0.8056\n",
      "Epoch 51/80\n",
      "131/131 [==============================] - 0s 2ms/step - loss: 0.4211 - accuracy: 0.7964\n",
      "Epoch 52/80\n",
      "131/131 [==============================] - 0s 2ms/step - loss: 0.4183 - accuracy: 0.8003\n",
      "Epoch 53/80\n",
      "131/131 [==============================] - 0s 1ms/step - loss: 0.4155 - accuracy: 0.8080\n",
      "Epoch 54/80\n",
      "131/131 [==============================] - 0s 2ms/step - loss: 0.4067 - accuracy: 0.8077\n",
      "Epoch 55/80\n",
      "131/131 [==============================] - 0s 2ms/step - loss: 0.4125 - accuracy: 0.8092\n",
      "Epoch 56/80\n",
      "131/131 [==============================] - 0s 2ms/step - loss: 0.4072 - accuracy: 0.8101\n",
      "Epoch 57/80\n",
      "131/131 [==============================] - 0s 2ms/step - loss: 0.4044 - accuracy: 0.8137\n",
      "Epoch 58/80\n",
      "131/131 [==============================] - 0s 2ms/step - loss: 0.4071 - accuracy: 0.8075\n",
      "Epoch 59/80\n",
      "131/131 [==============================] - 0s 2ms/step - loss: 0.4066 - accuracy: 0.8048\n",
      "Epoch 60/80\n",
      "131/131 [==============================] - 0s 1ms/step - loss: 0.4008 - accuracy: 0.8166\n",
      "Epoch 61/80\n",
      "131/131 [==============================] - 0s 1ms/step - loss: 0.3962 - accuracy: 0.8118\n",
      "Epoch 62/80\n",
      "131/131 [==============================] - 0s 1ms/step - loss: 0.3983 - accuracy: 0.8125\n",
      "Epoch 63/80\n",
      "131/131 [==============================] - 0s 1ms/step - loss: 0.3968 - accuracy: 0.8120\n",
      "Epoch 64/80\n",
      "131/131 [==============================] - 0s 1ms/step - loss: 0.3965 - accuracy: 0.8159\n",
      "Epoch 65/80\n",
      "131/131 [==============================] - 0s 1ms/step - loss: 0.3920 - accuracy: 0.8140\n",
      "Epoch 66/80\n",
      "131/131 [==============================] - 0s 1ms/step - loss: 0.3892 - accuracy: 0.8181\n",
      "Epoch 67/80\n",
      "131/131 [==============================] - 0s 1ms/step - loss: 0.3867 - accuracy: 0.8195\n",
      "Epoch 68/80\n",
      "131/131 [==============================] - 0s 1ms/step - loss: 0.3907 - accuracy: 0.8125\n",
      "Epoch 69/80\n",
      "131/131 [==============================] - 0s 2ms/step - loss: 0.3891 - accuracy: 0.8195\n",
      "Epoch 70/80\n",
      "131/131 [==============================] - 0s 1ms/step - loss: 0.3958 - accuracy: 0.8178\n",
      "Epoch 71/80\n",
      "131/131 [==============================] - 0s 2ms/step - loss: 0.3884 - accuracy: 0.8166\n",
      "Epoch 72/80\n",
      "131/131 [==============================] - 0s 2ms/step - loss: 0.3961 - accuracy: 0.8137\n",
      "Epoch 73/80\n",
      "131/131 [==============================] - 0s 1ms/step - loss: 0.3806 - accuracy: 0.8209\n",
      "Epoch 74/80\n",
      "131/131 [==============================] - 0s 1ms/step - loss: 0.3790 - accuracy: 0.8248\n",
      "Epoch 75/80\n",
      "131/131 [==============================] - 0s 2ms/step - loss: 0.3771 - accuracy: 0.8221\n",
      "Epoch 76/80\n",
      "131/131 [==============================] - 0s 1ms/step - loss: 0.3713 - accuracy: 0.8260\n",
      "Epoch 77/80\n",
      "131/131 [==============================] - 0s 1ms/step - loss: 0.3732 - accuracy: 0.8200\n",
      "Epoch 78/80\n",
      "131/131 [==============================] - 0s 1ms/step - loss: 0.3730 - accuracy: 0.8313\n",
      "Epoch 79/80\n",
      "131/131 [==============================] - 0s 2ms/step - loss: 0.3739 - accuracy: 0.8255\n",
      "Epoch 80/80\n",
      "131/131 [==============================] - 0s 2ms/step - loss: 0.3702 - accuracy: 0.8257\n"
     ]
    },
    {
     "data": {
      "text/plain": [
       "<keras.callbacks.History at 0x1bfb0074ac8>"
      ]
     },
     "execution_count": 464,
     "metadata": {},
     "output_type": "execute_result"
    }
   ],
   "source": [
    "model.fit(x_train, y_train, epochs=80)"
   ]
  },
  {
   "cell_type": "code",
   "execution_count": 465,
   "id": "e15a42f4",
   "metadata": {
    "scrolled": true
   },
   "outputs": [
    {
     "name": "stdout",
     "output_type": "stream",
     "text": [
      "33/33 [==============================] - 0s 1ms/step - loss: 0.5734 - accuracy: 0.7582\n",
      "test accuracy: 0.7581573724746704\n"
     ]
    }
   ],
   "source": [
    "score, acc = model.evaluate(x_test, y_test)\n",
    "print('test accuracy:', acc)"
   ]
  },
  {
   "cell_type": "code",
   "execution_count": 466,
   "id": "682bcc14",
   "metadata": {},
   "outputs": [
    {
     "data": {
      "text/plain": [
       "array([[7.9863064e-02, 7.2210278e-06, 6.2380639e-07, 9.2012906e-01],\n",
       "       [5.3096432e-02, 1.5094668e-06, 7.8851500e-08, 9.4690204e-01],\n",
       "       [5.8542784e-02, 1.9307238e-06, 1.0731609e-07, 9.4145525e-01],\n",
       "       [4.7974563e-01, 2.3894537e-04, 3.9604856e-05, 5.1997584e-01],\n",
       "       [4.4095609e-02, 7.4752592e-07, 3.1188765e-08, 9.5590353e-01]],\n",
       "      dtype=float32)"
      ]
     },
     "execution_count": 466,
     "metadata": {},
     "output_type": "execute_result"
    }
   ],
   "source": [
    "y_pred = model.predict(X_test)\n",
    "y_pred[:5]"
   ]
  },
  {
   "cell_type": "code",
   "execution_count": 467,
   "id": "c74cf1db",
   "metadata": {},
   "outputs": [
    {
     "data": {
      "text/plain": [
       "[3, 3, 3, 3, 3, 3, 0, 3, 3, 3, 3, 3, 0, 0, 3]"
      ]
     },
     "execution_count": 467,
     "metadata": {},
     "output_type": "execute_result"
    }
   ],
   "source": [
    "y_classes = [np.argmax(element) for element in y_pred]\n",
    "y_classes\n",
    "len(y_classes)\n",
    "y_classes[:15]"
   ]
  },
  {
   "cell_type": "code",
   "execution_count": 468,
   "id": "3c22fa80",
   "metadata": {},
   "outputs": [
    {
     "data": {
      "text/plain": [
       "[3, 3, 3, 3, 3, 0, 0, 3, 0, 0, 0, 3, 0, 3, 0]"
      ]
     },
     "execution_count": 468,
     "metadata": {},
     "output_type": "execute_result"
    }
   ],
   "source": [
    "y_classes1 = [np.argmax(element) for element in y_test]\n",
    "y_classes1\n",
    "len(y_classes1)\n",
    "y_classes1[:15]"
   ]
  },
  {
   "cell_type": "code",
   "execution_count": 469,
   "id": "f00e52b4",
   "metadata": {},
   "outputs": [
    {
     "data": {
      "text/plain": [
       "array([[114,   0,   0, 477],\n",
       "       [  0,   0,   0,   5],\n",
       "       [  0,   0,   0,   4],\n",
       "       [ 94,   0,   0, 348]], dtype=int64)"
      ]
     },
     "execution_count": 469,
     "metadata": {},
     "output_type": "execute_result"
    }
   ],
   "source": [
    "from sklearn.metrics import confusion_matrix\n",
    "cm = confusion_matrix(y_classes1, y_classes)\n",
    "cm"
   ]
  },
  {
   "cell_type": "code",
   "execution_count": 433,
   "id": "82f4699b",
   "metadata": {},
   "outputs": [
    {
     "data": {
      "text/plain": [
       "Text(69.0, 0.5, 'Truth')"
      ]
     },
     "execution_count": 433,
     "metadata": {},
     "output_type": "execute_result"
    },
    {
     "data": {
      "image/png": "[encoded data removed]",
      "text/plain": [
       "<Figure size 720x504 with 2 Axes>"
      ]
     },
     "metadata": {
      "needs_background": "light"
     },
     "output_type": "display_data"
    }
   ],
   "source": [
    "import seaborn as sn\n",
    "plt.figure(figsize = (10,7))\n",
    "sn.heatmap(cm, annot=True)\n",
    "plt.xlabel('Predicted')\n",
    "plt.ylabel('Truth')"
   ]
  },
  {
   "cell_type": "code",
   "execution_count": null,
   "id": "e47c5965",
   "metadata": {},
   "outputs": [],
   "source": []
  }
 ],
 "metadata": {
  "kernelspec": {
   "display_name": "Python 3 (ipykernel)",
   "language": "python",
   "name": "python3"
  },
  "language_info": {
   "codemirror_mode": {
    "name": "ipython",
    "version": 3
   },
   "file_extension": ".py",
   "mimetype": "text/x-python",
   "name": "python",
   "nbconvert_exporter": "python",
   "pygments_lexer": "ipython3",
   "version": "3.7.11"
  }
 },
 "nbformat": 4,
 "nbformat_minor": 5
}
